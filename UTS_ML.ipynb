{
 "cells": [
  {
   "cell_type": "markdown",
   "id": "a7115865-d016-4125-9ace-c3d15bb8b17a",
   "metadata": {},
   "source": [
    "## Essay"
   ]
  },
  {
   "cell_type": "markdown",
   "id": "46e4580c-5238-47da-b908-f135e53acd6c",
   "metadata": {},
   "source": [
    "## 1.\n",
    "Machine learning adalah mesin yang dikembangkan untuk bisa belajar dengan sendirinya\n",
    "tanpa arahan dari penggunanya. Pembelajaran mesin dikembangkan berdasarkan disiplin\n",
    "ilmu lainnya seperti statistika, matematika dan data mining sehingga mesin dapat belajar\n",
    "dengan menganalisa data tanpa perlu di program ulang atau diperintah.\n"
   ]
  },
  {
   "cell_type": "markdown",
   "id": "01f3b760-7a93-4142-a1c3-7eb49143a59b",
   "metadata": {},
   "source": [
    "## 2.\n",
    "# A.Rekomendasi Produk di E-commerce\n",
    "Penerapan: Platform seperti Tokopedia atau Shopee merekomendasikan produk\n",
    "berdasarkan riwayat pencarian dan pembelian pengguna.\n",
    "Alasan & Manfaat:\n",
    "-Meningkatkan Penjualan: Rekomendasi relevan mendorong pembelian.\n",
    "-Pengalaman Pengguna: Mempermudah pencarian produk.\n",
    "-Personalisasi: Pengalaman belanja sesuai preferensi pengguna.\n",
    "\n",
    "# B.Asisten Virtual atau Chatbot\n",
    "Penerapan: Siri, Google Assistant, dan chatbot di situs web memahami dan merespons\n",
    "permintaan pengguna.\n",
    "Alasan & Manfaat:\n",
    "-Efisiensi: Mengurangi beban kerja manusia.\n",
    "-Akses 24/7: Bantuan kapan saja.\n",
    "-Layanan Pelanggan: Respon cepat meningkatkan kepuasan.\n",
    "\n",
    "# C.Sistem Keamanan\n",
    "Penerapan: Sistem rumah pintar menggunakan ML untuk mendeteksi aktivitas\n",
    "mencurigakan dari kamera pengawas.\n",
    "Alasan & Manfaat:\n",
    "-Pencegahan Kejahatan: Deteksi dini mengurangi risiko pencurian.\n",
    "-Respons Cepat: Peringatan segera memungkinkan tindakan cepat.\n",
    "-Keandalan: Pembelajaran dari data sebelumnya meningkatkan akurasi.\n"
   ]
  },
  {
   "cell_type": "markdown",
   "id": "518d6156-81eb-4e95-afd7-5c7f814744bf",
   "metadata": {},
   "source": [
    "## 3.\n",
    "# A.Klasifikasi supervised learning\n",
    "Salah satu jenis utama Machine Learning adalah Supervised Learning (Pembelajaran\n",
    "Terawasi). Dalam Supervised Learning, model Machine Learning dilatih menggunakan\n",
    "dataset yang sudah memiliki label. Misalnya, jika kita ingin membangun model untuk\n",
    "mengklasifikasikan gambar hewan sebagai “anjing” atau “kucing”, kita membutuhkan\n",
    "dataset gambar hewan yang sudah diberi label dengan benar.\n",
    "Manfaat utama dari Supervised Learning adalah kemampuannya untuk melakukan\n",
    "prediksi dengan tingkat akurasi yang tinggi. Model yang dilatih dengan data berlabel\n",
    "dapat memahami pola-pola yang kompleks dalam data, dan ini membuatnya sangat\n",
    "berguna dalam berbagai aplikasi seperti pengenalan wajah, analisis sentimen, dan\n",
    "bahkan diagnosa medis.\n",
    "    \n",
    "# B.Klasifikasi unsupervised learning\n",
    "Dalam Unsupervised Learning, model Machine Learning belajar dari data yang tidak\n",
    "memiliki label. Model ini mencoba menemukan pola-pola alami dalam data dan\n",
    "mengelompokkan data ke dalam kategori atau kluster berdasarkan kesamaan fitur.\n",
    "Salah satu contoh klasifikasi Unsupervised Learning adalah pengelompokan\n",
    "pelanggan berdasarkan perilaku belanja mereka dalam analisis pasar. Model ini\n",
    "mungkin menemukan dua kelompok pelanggan yang berbeda berdasarkan preferensi\n",
    "belanja mereka tanpa informasi sebelumnya tentang jenis pelanggan.\n",
    "Manfaat utama dari Unsupervised Learning adalah kemampuannya untuk\n",
    "mengungkap pola-pola yang tidak terlihat pada pandangan pertama. Ini dapat\n",
    "membantu dalam eksplorasi data dan pengelompokan data yang besar menjadi\n",
    "kelompok-kelompok yang lebih kecil dan lebih mudah dikelola.\n",
    "\n",
    "# C.Klasifikasi Semi-Supervised Learning\n",
    "adalah pendekatan yang menggabungkan elemen-elemen dari keduanya. Dalam\n",
    "Semi-Supervised Learning, sebagian data memiliki label sementara sebagian lainnya\n",
    "tidak.\n",
    "Manfaat utama dari Semi-Supervised Learning adalah dapat memanfaatkan data yang\n",
    "ada dengan label sebelumnya sambil tetap mampu mengeksplorasi dan\n",
    "memanfaatkan data yang belum memiliki label. Ini sangat berguna dalam situasi di\n",
    "mana mendapatkan label untuk semua data mungkin sulit atau mahal.\n"
   ]
  },
  {
   "cell_type": "markdown",
   "id": "f99ba756-2d99-4623-b8f1-ed6379602756",
   "metadata": {},
   "source": [
    "## Studi Kasus"
   ]
  },
  {
   "cell_type": "markdown",
   "id": "a8ced152-f027-4089-8157-23f30567ddf9",
   "metadata": {},
   "source": [
    "## 1.\n",
    "a. Setiap mahasiswa datang setiap hari dari Senin hingga Minggu, jadi rata-rata kehadiran\n",
    "permahasiswa adalah 7 hari dalam seminggu.\n",
    "\n",
    "b. Biaya tertinggi terjadi setiap hari, karena semua mahasiswa datang setiap hari. Total\n",
    "biaya harian adalah: 30000+35000+20000+25000+15000=125000.\n",
    "\n",
    "c. Setiap hari biaya lebih dari 110000 karena total biaya harian adalah 125000.\n",
    "\n",
    "d. Semua mahasiswa datang dengan frekuensi yang sama setiap hari, yaitu 7 kali dalam seminggu.\n",
    "    \n",
    "e. Semua mahasiswa datang pada hari Minggu karena mereka datang setiap hari.\n",
    "\n",
    "f. Biaya tertinggi adalah 35000 (Budi), dan biaya terendah adalah 15000 (Lono).\n",
    "\n",
    "g. Frekuensi datang tertinggi dan terendah adalah sama untuk semua mahasiswa, yaitu 7\n",
    "kali seminggu."
   ]
  },
  {
   "cell_type": "markdown",
   "id": "55504bbf-79a0-4f39-bdc7-940364dda8dc",
   "metadata": {},
   "source": [
    "## 2."
   ]
  },
  {
   "cell_type": "code",
   "execution_count": 8,
   "id": "ba4c02db-de8f-4a60-8247-9cce48581d4c",
   "metadata": {},
   "outputs": [],
   "source": [
    "import pandas as pd\n",
    "import matplotlib.pyplot as plt\n"
   ]
  },
  {
   "cell_type": "code",
   "execution_count": 9,
   "id": "ad7a8653-a8d0-4dba-9e63-a99b541fdb88",
   "metadata": {},
   "outputs": [],
   "source": [
    "fakultas = [\"Bisnis\", \"D3 Perhotelan\", \"ICT\", \"Ilmu Komunikasi\", \"Seni dan Desain\"]\n",
    "jumlah_mahasiswa = [260, 28, 284, 465, 735]\n",
    "akreditasi = [\"A\", \"A\", \"B\", \"A\", \"A\"]\n"
   ]
  },
  {
   "cell_type": "code",
   "execution_count": 10,
   "id": "00494152-c969-453f-b6c3-ed9337d77ed8",
   "metadata": {},
   "outputs": [
    {
     "data": {
      "text/html": [
       "<div>\n",
       "<style scoped>\n",
       "    .dataframe tbody tr th:only-of-type {\n",
       "        vertical-align: middle;\n",
       "    }\n",
       "\n",
       "    .dataframe tbody tr th {\n",
       "        vertical-align: top;\n",
       "    }\n",
       "\n",
       "    .dataframe thead th {\n",
       "        text-align: right;\n",
       "    }\n",
       "</style>\n",
       "<table border=\"1\" class=\"dataframe\">\n",
       "  <thead>\n",
       "    <tr style=\"text-align: right;\">\n",
       "      <th></th>\n",
       "      <th>fakultas</th>\n",
       "      <th>jumlah_mahasiswa</th>\n",
       "      <th>akreditasi</th>\n",
       "    </tr>\n",
       "  </thead>\n",
       "  <tbody>\n",
       "    <tr>\n",
       "      <th>0</th>\n",
       "      <td>Bisnis</td>\n",
       "      <td>260</td>\n",
       "      <td>A</td>\n",
       "    </tr>\n",
       "    <tr>\n",
       "      <th>1</th>\n",
       "      <td>D3 Perhotelan</td>\n",
       "      <td>28</td>\n",
       "      <td>A</td>\n",
       "    </tr>\n",
       "    <tr>\n",
       "      <th>2</th>\n",
       "      <td>ICT</td>\n",
       "      <td>284</td>\n",
       "      <td>B</td>\n",
       "    </tr>\n",
       "    <tr>\n",
       "      <th>3</th>\n",
       "      <td>Ilmu Komunikasi</td>\n",
       "      <td>465</td>\n",
       "      <td>A</td>\n",
       "    </tr>\n",
       "    <tr>\n",
       "      <th>4</th>\n",
       "      <td>Seni dan Desain</td>\n",
       "      <td>735</td>\n",
       "      <td>A</td>\n",
       "    </tr>\n",
       "  </tbody>\n",
       "</table>\n",
       "</div>"
      ],
      "text/plain": [
       "          fakultas  jumlah_mahasiswa akreditasi\n",
       "0           Bisnis               260          A\n",
       "1    D3 Perhotelan                28          A\n",
       "2              ICT               284          B\n",
       "3  Ilmu Komunikasi               465          A\n",
       "4  Seni dan Desain               735          A"
      ]
     },
     "execution_count": 10,
     "metadata": {},
     "output_type": "execute_result"
    }
   ],
   "source": [
    "info_mahasiswa = pd.DataFrame({\n",
    "    'fakultas': fakultas,\n",
    "    'jumlah_mahasiswa': jumlah_mahasiswa,\n",
    "    'akreditasi': akreditasi\n",
    "})\n",
    "\n",
    "\n",
    "info_mahasiswa\n"
   ]
  },
  {
   "cell_type": "code",
   "execution_count": 11,
   "id": "ea8bb0cf-4848-40d3-b708-ab5fa5f5e9e4",
   "metadata": {},
   "outputs": [
    {
     "data": {
      "image/png": "[encoded data removed]",
      "text/plain": [
       "<Figure size 1000x600 with 1 Axes>"
      ]
     },
     "metadata": {},
     "output_type": "display_data"
    }
   ],
   "source": [
    "plt.figure(figsize=(10, 6))\n",
    "plt.bar(info_mahasiswa['fakultas'], info_mahasiswa['jumlah_mahasiswa'], color=['blue', 'orange', 'green', 'red', 'purple'])\n",
    "plt.xlabel('Fakultas')\n",
    "plt.ylabel('Jumlah Mahasiswa')\n",
    "plt.title('Jumlah Mahasiswa per Fakultas')\n",
    "plt.show()\n"
   ]
  },
  {
   "cell_type": "code",
   "execution_count": null,
   "id": "6e968066-4ac3-4554-ad6e-0fad02b7a778",
   "metadata": {},
   "outputs": [],
   "source": []
  }
 ],
 "metadata": {
  "kernelspec": {
   "display_name": "Python 3 (ipykernel)",
   "language": "python",
   "name": "python3"
  },
  "language_info": {
   "codemirror_mode": {
    "name": "ipython",
    "version": 3
   },
   "file_extension": ".py",
   "mimetype": "text/x-python",
   "name": "python",
   "nbconvert_exporter": "python",
   "pygments_lexer": "ipython3",
   "version": "3.11.2"
  }
 },
 "nbformat": 4,
 "nbformat_minor": 5
}
